{
 "cells": [
  {
   "cell_type": "code",
   "execution_count": 8,
   "id": "036c56cb",
   "metadata": {},
   "outputs": [],
   "source": [
    "import json\n",
    "import requests\n",
    "import numpy as np\n",
    "import pandas as pd\n",
    "from io import StringIO"
   ]
  },
  {
   "cell_type": "code",
   "execution_count": 63,
   "id": "c0980f76",
   "metadata": {},
   "outputs": [],
   "source": [
    "df = pd.read_csv('stake1ux5n727gxnt6l2kkm25d8qn4g9cfv0an25j27mdueyh6lkcg5kwxa.csv')"
   ]
  },
  {
   "cell_type": "code",
   "execution_count": 64,
   "id": "07f1bfd5",
   "metadata": {},
   "outputs": [
    {
     "data": {
      "text/html": [
       "<div>\n",
       "<style scoped>\n",
       "    .dataframe tbody tr th:only-of-type {\n",
       "        vertical-align: middle;\n",
       "    }\n",
       "\n",
       "    .dataframe tbody tr th {\n",
       "        vertical-align: top;\n",
       "    }\n",
       "\n",
       "    .dataframe thead th {\n",
       "        text-align: right;\n",
       "    }\n",
       "</style>\n",
       "<table border=\"1\" class=\"dataframe\">\n",
       "  <thead>\n",
       "    <tr style=\"text-align: right;\">\n",
       "      <th></th>\n",
       "      <th>Unnamed: 0</th>\n",
       "      <th>address</th>\n",
       "      <th>value</th>\n",
       "    </tr>\n",
       "  </thead>\n",
       "  <tbody>\n",
       "    <tr>\n",
       "      <th>0</th>\n",
       "      <td>0</td>\n",
       "      <td>addr1qygvvgradk8rptrrm5xkcvtml9tzsdyvwx24t7u7d...</td>\n",
       "      <td>1000000</td>\n",
       "    </tr>\n",
       "    <tr>\n",
       "      <th>1</th>\n",
       "      <td>1</td>\n",
       "      <td>addr1qxfqzrjmss503q269xcc8el30vyte87vad2hhkhjf...</td>\n",
       "      <td>2783000</td>\n",
       "    </tr>\n",
       "    <tr>\n",
       "      <th>2</th>\n",
       "      <td>2</td>\n",
       "      <td>addr1qy4ugcdtesttast50cyr58cv0az22afy93kek0jen...</td>\n",
       "      <td>9000000</td>\n",
       "    </tr>\n",
       "    <tr>\n",
       "      <th>3</th>\n",
       "      <td>3</td>\n",
       "      <td>addr1qxfqzrjmss503q269xcc8el30vyte87vad2hhkhjf...</td>\n",
       "      <td>1344798</td>\n",
       "    </tr>\n",
       "    <tr>\n",
       "      <th>4</th>\n",
       "      <td>4</td>\n",
       "      <td>addr1qxfqzrjmss503q269xcc8el30vyte87vad2hhkhjf...</td>\n",
       "      <td>1793064</td>\n",
       "    </tr>\n",
       "    <tr>\n",
       "      <th>...</th>\n",
       "      <td>...</td>\n",
       "      <td>...</td>\n",
       "      <td>...</td>\n",
       "    </tr>\n",
       "    <tr>\n",
       "      <th>73</th>\n",
       "      <td>73</td>\n",
       "      <td>addr1qxqwgkec2ygnahknxavxkgvet65ahj7044mjfzgxl...</td>\n",
       "      <td>555423785</td>\n",
       "    </tr>\n",
       "    <tr>\n",
       "      <th>74</th>\n",
       "      <td>74</td>\n",
       "      <td>addr1qxqwgkec2ygnahknxavxkgvet65ahj7044mjfzgxl...</td>\n",
       "      <td>5000000</td>\n",
       "    </tr>\n",
       "    <tr>\n",
       "      <th>75</th>\n",
       "      <td>75</td>\n",
       "      <td>addr1qxfqzrjmss503q269xcc8el30vyte87vad2hhkhjf...</td>\n",
       "      <td>342020000</td>\n",
       "    </tr>\n",
       "    <tr>\n",
       "      <th>76</th>\n",
       "      <td>76</td>\n",
       "      <td>addr1qx9lnkgrujx223qekmpa5j8ysqk9srww2zazhdyyx...</td>\n",
       "      <td>2394944818</td>\n",
       "    </tr>\n",
       "    <tr>\n",
       "      <th>77</th>\n",
       "      <td>77</td>\n",
       "      <td>addr1qxh6vcaf6la7jpnyhwl6vgs7p769gxlwsk26e2c0s...</td>\n",
       "      <td>2000000</td>\n",
       "    </tr>\n",
       "  </tbody>\n",
       "</table>\n",
       "<p>78 rows × 3 columns</p>\n",
       "</div>"
      ],
      "text/plain": [
       "    Unnamed: 0                                            address       value\n",
       "0            0  addr1qygvvgradk8rptrrm5xkcvtml9tzsdyvwx24t7u7d...     1000000\n",
       "1            1  addr1qxfqzrjmss503q269xcc8el30vyte87vad2hhkhjf...     2783000\n",
       "2            2  addr1qy4ugcdtesttast50cyr58cv0az22afy93kek0jen...     9000000\n",
       "3            3  addr1qxfqzrjmss503q269xcc8el30vyte87vad2hhkhjf...     1344798\n",
       "4            4  addr1qxfqzrjmss503q269xcc8el30vyte87vad2hhkhjf...     1793064\n",
       "..         ...                                                ...         ...\n",
       "73          73  addr1qxqwgkec2ygnahknxavxkgvet65ahj7044mjfzgxl...   555423785\n",
       "74          74  addr1qxqwgkec2ygnahknxavxkgvet65ahj7044mjfzgxl...     5000000\n",
       "75          75  addr1qxfqzrjmss503q269xcc8el30vyte87vad2hhkhjf...   342020000\n",
       "76          76  addr1qx9lnkgrujx223qekmpa5j8ysqk9srww2zazhdyyx...  2394944818\n",
       "77          77  addr1qxh6vcaf6la7jpnyhwl6vgs7p769gxlwsk26e2c0s...     2000000\n",
       "\n",
       "[78 rows x 3 columns]"
      ]
     },
     "execution_count": 64,
     "metadata": {},
     "output_type": "execute_result"
    }
   ],
   "source": [
    "df"
   ]
  },
  {
   "cell_type": "code",
   "execution_count": 65,
   "id": "7945fb3a",
   "metadata": {},
   "outputs": [],
   "source": [
    "with open('json/inputs/stake1ux5n727gxnt6l2kkm25d8qn4g9cfv0an25j27mdueyh6lkcg5kwxa.json', 'w') as file:\n",
    "    file.write(\"{\\n\")\n",
    "    file.write('\\t\"UTxO_set\": [\\n')\n",
    "    for i in range(df.shape[0]):\n",
    "        file.write('\\t\\t{\\n')\n",
    "        file.write(f'\\t\\t\\t\"address\": \"{df.iloc[i][\"address\"]}\",\\n')\n",
    "        file.write(f'\\t\\t\\t\"value\": \"{df.iloc[i][\"value\"]}\"\\n')\n",
    "        file.write('\\t\\t},\\n')\n",
    "    file.write('\\t]\\n}')"
   ]
  },
  {
   "cell_type": "code",
   "execution_count": null,
   "id": "619182d4",
   "metadata": {},
   "outputs": [],
   "source": [
    "{\n",
    "    'stake_address':stake address\n",
    "    'outgoing_transactions':[\n",
    "        {\n",
    "            'address': this will be wallet address,\n",
    "            'value': this will be the value of transaction\n",
    "        }\n",
    "    ]\n",
    "}"
   ]
  },
  {
   "cell_type": "code",
   "execution_count": null,
   "id": "7eef760c",
   "metadata": {},
   "outputs": [],
   "source": []
  },
  {
   "cell_type": "code",
   "execution_count": null,
   "id": "d7986256",
   "metadata": {},
   "outputs": [],
   "source": []
  }
 ],
 "metadata": {
  "kernelspec": {
   "display_name": "Python 3 (ipykernel)",
   "language": "python",
   "name": "python3"
  },
  "language_info": {
   "codemirror_mode": {
    "name": "ipython",
    "version": 3
   },
   "file_extension": ".py",
   "mimetype": "text/x-python",
   "name": "python",
   "nbconvert_exporter": "python",
   "pygments_lexer": "ipython3",
   "version": "3.9.12"
  }
 },
 "nbformat": 4,
 "nbformat_minor": 5
}
