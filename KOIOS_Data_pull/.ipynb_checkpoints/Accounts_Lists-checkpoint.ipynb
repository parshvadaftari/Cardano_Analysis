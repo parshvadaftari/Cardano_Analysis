{
 "cells": [
  {
   "cell_type": "markdown",
   "id": "d383225c",
   "metadata": {},
   "source": [
    "## Importing libraries"
   ]
  },
  {
   "cell_type": "code",
   "execution_count": 1,
   "id": "2942a68d",
   "metadata": {},
   "outputs": [],
   "source": [
    "import json\n",
    "import requests\n",
    "import numpy as np\n",
    "import pandas as pd"
   ]
  },
  {
   "cell_type": "markdown",
   "id": "b1cd4d50",
   "metadata": {},
   "source": [
    "### Getting account list"
   ]
  },
  {
   "cell_type": "code",
   "execution_count": 2,
   "id": "864f3b61",
   "metadata": {},
   "outputs": [],
   "source": [
    "#url for getting the account list\n",
    "url = 'https://api.koios.rest/api/v0/account_list'"
   ]
  },
  {
   "cell_type": "code",
   "execution_count": 14,
   "id": "56c04e7c",
   "metadata": {},
   "outputs": [],
   "source": [
    "headers = {'Accept': 'text/csv'}\n",
    "r = requests.get(url, headers=headers,params=None)"
   ]
  },
  {
   "cell_type": "code",
   "execution_count": 41,
   "id": "47d0a450",
   "metadata": {},
   "outputs": [
    {
     "data": {
      "text/html": [
       "<div>\n",
       "<style scoped>\n",
       "    .dataframe tbody tr th:only-of-type {\n",
       "        vertical-align: middle;\n",
       "    }\n",
       "\n",
       "    .dataframe tbody tr th {\n",
       "        vertical-align: top;\n",
       "    }\n",
       "\n",
       "    .dataframe thead th {\n",
       "        text-align: right;\n",
       "    }\n",
       "</style>\n",
       "<table border=\"1\" class=\"dataframe\">\n",
       "  <thead>\n",
       "    <tr style=\"text-align: right;\">\n",
       "      <th></th>\n",
       "      <th>id</th>\n",
       "    </tr>\n",
       "  </thead>\n",
       "  <tbody>\n",
       "    <tr>\n",
       "      <th>0</th>\n",
       "      <td>stake1uyfmzu5qqy70a8kq4c8rw09q0w0ktfcxppwujejn...</td>\n",
       "    </tr>\n",
       "    <tr>\n",
       "      <th>1</th>\n",
       "      <td>stake1uxffj3q96my75qka7jrr8lsc2xe3vxuan0t4uzth...</td>\n",
       "    </tr>\n",
       "    <tr>\n",
       "      <th>2</th>\n",
       "      <td>stake1uydhlh7f2kkw9eazct5zyzlrvj32gjnkmt2v5qf6...</td>\n",
       "    </tr>\n",
       "    <tr>\n",
       "      <th>3</th>\n",
       "      <td>stake1uxsgkz6fvgws5wn80vckwvghzapnhfmf0672nmmk...</td>\n",
       "    </tr>\n",
       "    <tr>\n",
       "      <th>4</th>\n",
       "      <td>stake1u9z2msz0qr3lnt6q07fhv00vj5kp9dlfyjd9ax8v...</td>\n",
       "    </tr>\n",
       "    <tr>\n",
       "      <th>...</th>\n",
       "      <td>...</td>\n",
       "    </tr>\n",
       "    <tr>\n",
       "      <th>995</th>\n",
       "      <td>stake1u9yl4066shnqp9pav2c5665c0zgp4ap935mya28p...</td>\n",
       "    </tr>\n",
       "    <tr>\n",
       "      <th>996</th>\n",
       "      <td>stake1u93fclcfsulf4xfxlx5qxdjwqzfckk7gvmw7mkd7...</td>\n",
       "    </tr>\n",
       "    <tr>\n",
       "      <th>997</th>\n",
       "      <td>stake1u8qfcu5s874gpug5zrme4pzsf5me5kemxax940pa...</td>\n",
       "    </tr>\n",
       "    <tr>\n",
       "      <th>998</th>\n",
       "      <td>stake1uygwhmmtcxpce5jxw6hy9h78tqcwcz3qvht3chax...</td>\n",
       "    </tr>\n",
       "    <tr>\n",
       "      <th>999</th>\n",
       "      <td>stake1ux7d6fcgza28s7y27euavswveq524frrm5vrwuwd...</td>\n",
       "    </tr>\n",
       "  </tbody>\n",
       "</table>\n",
       "<p>1000 rows × 1 columns</p>\n",
       "</div>"
      ],
      "text/plain": [
       "                                                    id\n",
       "0    stake1uyfmzu5qqy70a8kq4c8rw09q0w0ktfcxppwujejn...\n",
       "1    stake1uxffj3q96my75qka7jrr8lsc2xe3vxuan0t4uzth...\n",
       "2    stake1uydhlh7f2kkw9eazct5zyzlrvj32gjnkmt2v5qf6...\n",
       "3    stake1uxsgkz6fvgws5wn80vckwvghzapnhfmf0672nmmk...\n",
       "4    stake1u9z2msz0qr3lnt6q07fhv00vj5kp9dlfyjd9ax8v...\n",
       "..                                                 ...\n",
       "995  stake1u9yl4066shnqp9pav2c5665c0zgp4ap935mya28p...\n",
       "996  stake1u93fclcfsulf4xfxlx5qxdjwqzfckk7gvmw7mkd7...\n",
       "997  stake1u8qfcu5s874gpug5zrme4pzsf5me5kemxax940pa...\n",
       "998  stake1uygwhmmtcxpce5jxw6hy9h78tqcwcz3qvht3chax...\n",
       "999  stake1ux7d6fcgza28s7y27euavswveq524frrm5vrwuwd...\n",
       "\n",
       "[1000 rows x 1 columns]"
      ]
     },
     "execution_count": 41,
     "metadata": {},
     "output_type": "execute_result"
    }
   ],
   "source": [
    "strr = r.text[3:]\n",
    "data = list(strr.split('\\n'))\n",
    "df = pd.DataFrame(data,columns = [r.text[0:2]])\n",
    "df"
   ]
  },
  {
   "cell_type": "code",
   "execution_count": 42,
   "id": "bcab419b",
   "metadata": {},
   "outputs": [],
   "source": [
    "df.to_csv('Stake_Accounts_list.csv',index=False)"
   ]
  },
  {
   "cell_type": "code",
   "execution_count": 43,
   "id": "69fed8f1",
   "metadata": {},
   "outputs": [],
   "source": [
    "# Create DataFrame 1\n",
    "df1 = pd.DataFrame({'A': [1, 2, 3], 'B': [4, 5, 6]})\n",
    "\n",
    "# Create DataFrame 2\n",
    "df2 = pd.DataFrame({'A': [7, 8, 9], 'B': [10, 11, 12]})\n",
    "\n",
    "# Create an array of DataFrames\n",
    "array_of_dfs = [df1, df2]"
   ]
  },
  {
   "cell_type": "code",
   "execution_count": 48,
   "id": "40d106e0",
   "metadata": {
    "scrolled": true
   },
   "outputs": [
    {
     "data": {
      "text/plain": [
       "[   A  B\n",
       " 0  1  4\n",
       " 1  2  5\n",
       " 2  3  6,\n",
       "    A   B\n",
       " 0  7  10\n",
       " 1  8  11\n",
       " 2  9  12]"
      ]
     },
     "execution_count": 48,
     "metadata": {},
     "output_type": "execute_result"
    }
   ],
   "source": [
    "array_of_dfs"
   ]
  }
 ],
 "metadata": {
  "kernelspec": {
   "display_name": "Python 3 (ipykernel)",
   "language": "python",
   "name": "python3"
  },
  "language_info": {
   "codemirror_mode": {
    "name": "ipython",
    "version": 3
   },
   "file_extension": ".py",
   "mimetype": "text/x-python",
   "name": "python",
   "nbconvert_exporter": "python",
   "pygments_lexer": "ipython3",
   "version": "3.9.12"
  }
 },
 "nbformat": 4,
 "nbformat_minor": 5
}
