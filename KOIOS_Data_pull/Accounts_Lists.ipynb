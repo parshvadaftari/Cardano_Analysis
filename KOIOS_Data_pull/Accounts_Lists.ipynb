{
 "cells": [
  {
   "cell_type": "markdown",
   "id": "d383225c",
   "metadata": {},
   "source": [
    "## Importing libraries"
   ]
  },
  {
   "cell_type": "code",
   "execution_count": 1,
   "id": "2942a68d",
   "metadata": {},
   "outputs": [],
   "source": [
    "import json\n",
    "import requests\n",
    "import numpy as np\n",
    "import pandas as pd\n",
    "import datetime as dt\n",
    "from io import StringIO"
   ]
  },
  {
   "cell_type": "markdown",
   "id": "b1cd4d50",
   "metadata": {},
   "source": [
    "### Getting account list"
   ]
  },
  {
   "cell_type": "code",
   "execution_count": 2,
   "id": "864f3b61",
   "metadata": {},
   "outputs": [],
   "source": [
    "#url for getting the account list\n",
    "url_base = 'https://api.koios.rest/api/v0/'"
   ]
  },
  {
   "cell_type": "code",
   "execution_count": 3,
   "id": "56c04e7c",
   "metadata": {},
   "outputs": [],
   "source": [
    "def koios_api_pull(url, type='get', headers={\"Accept\": \"text/csv\"}, params=None, print_text=False):\n",
    "    if type == 'get':\n",
    "        r = requests.get(url, headers = headers, params=params)\n",
    "    elif type == 'post':\n",
    "        r = requests.post(url, headers = headers, data=params)\n",
    "        \n",
    "    if print_text:\n",
    "        print(r.text)\n",
    "        \n",
    "    df = pd.read_csv(StringIO(r.text), sep=\",\")\n",
    "    return df"
   ]
  },
  {
   "cell_type": "code",
   "execution_count": 6,
   "id": "47d0a450",
   "metadata": {},
   "outputs": [],
   "source": [
    "offset = 0\n",
    "address_list = pd.DataFrame(columns=[\"id\"])\n",
    "\n",
    "while True:\n",
    "    \n",
    "    try:\n",
    "        url = url_base + f'account_list?order=id.asc&offset={offset}'\n",
    "        df = koios_api_pull(url)\n",
    "        while list(df.columns) != [\"id\"]:\n",
    "            df = koios_api_pull(url)\n",
    "        address_list = pd.concat([address_list, df])\n",
    "        \n",
    "        offset += 1000\n",
    "        \n",
    "    except:\n",
    "        break\n",
    "    \n",
    "url = url_base + f'account_list?order=id.desc&offset={0}&limit={1000}'\n",
    "df = koios_api_pull(url)\n",
    "df = df.sort_values(by=[\"id\"])\n",
    "\n",
    "df_last_1000 = address_list.tail(1000)\n",
    "df = df[~np.isin(df[\"id\"], df_last_1000[\"id\"])]\n",
    "\n",
    "address_list = pd.concat([address_list, df])"
   ]
  },
  {
   "cell_type": "code",
   "execution_count": 7,
   "id": "bcab419b",
   "metadata": {},
   "outputs": [
    {
     "data": {
      "text/html": [
       "<div>\n",
       "<style scoped>\n",
       "    .dataframe tbody tr th:only-of-type {\n",
       "        vertical-align: middle;\n",
       "    }\n",
       "\n",
       "    .dataframe tbody tr th {\n",
       "        vertical-align: top;\n",
       "    }\n",
       "\n",
       "    .dataframe thead th {\n",
       "        text-align: right;\n",
       "    }\n",
       "</style>\n",
       "<table border=\"1\" class=\"dataframe\">\n",
       "  <thead>\n",
       "    <tr style=\"text-align: right;\">\n",
       "      <th></th>\n",
       "      <th>id</th>\n",
       "    </tr>\n",
       "  </thead>\n",
       "  <tbody>\n",
       "    <tr>\n",
       "      <th>0</th>\n",
       "      <td>stake17805typy0v6sjluhn4thnuw4h2wdfjmvra0vuj66...</td>\n",
       "    </tr>\n",
       "    <tr>\n",
       "      <th>1</th>\n",
       "      <td>stake1780l3f4zdn263ahmyy875n4cy6tnpcdp2n67vpsl...</td>\n",
       "    </tr>\n",
       "    <tr>\n",
       "      <th>2</th>\n",
       "      <td>stake1780lxjfcwsuf9qjmqts58huec5lqlssxnz4smvm4...</td>\n",
       "    </tr>\n",
       "    <tr>\n",
       "      <th>3</th>\n",
       "      <td>stake1780v0vxp0hg4f9qf2v5hfdllcntphm5yjz4q3jcu...</td>\n",
       "    </tr>\n",
       "    <tr>\n",
       "      <th>4</th>\n",
       "      <td>stake17829eha0lrmu40t5hvp79h07xjfvr5uypxyfwrm5...</td>\n",
       "    </tr>\n",
       "    <tr>\n",
       "      <th>...</th>\n",
       "      <td>...</td>\n",
       "    </tr>\n",
       "    <tr>\n",
       "      <th>4</th>\n",
       "      <td>stake1uyzzzxw74vflyghgkhzw4k0aafatsztstelx6xnc...</td>\n",
       "    </tr>\n",
       "    <tr>\n",
       "      <th>3</th>\n",
       "      <td>stake1uyzzzyvc72rxsu7uu2lu3ds3xeu5lc3p9kfgwgxp...</td>\n",
       "    </tr>\n",
       "    <tr>\n",
       "      <th>2</th>\n",
       "      <td>stake1uyzzzyx07tlna8feyumseen34294028n0nhpx46g...</td>\n",
       "    </tr>\n",
       "    <tr>\n",
       "      <th>1</th>\n",
       "      <td>stake1uyzzzyyzmh8esjvmvdrqre8dddtzty3edslc9cjl...</td>\n",
       "    </tr>\n",
       "    <tr>\n",
       "      <th>0</th>\n",
       "      <td>stake1uyzzzzr50yftpauzptzvmzg283sak03ayxnal3aq...</td>\n",
       "    </tr>\n",
       "  </tbody>\n",
       "</table>\n",
       "<p>19000 rows × 1 columns</p>\n",
       "</div>"
      ],
      "text/plain": [
       "                                                   id\n",
       "0   stake17805typy0v6sjluhn4thnuw4h2wdfjmvra0vuj66...\n",
       "1   stake1780l3f4zdn263ahmyy875n4cy6tnpcdp2n67vpsl...\n",
       "2   stake1780lxjfcwsuf9qjmqts58huec5lqlssxnz4smvm4...\n",
       "3   stake1780v0vxp0hg4f9qf2v5hfdllcntphm5yjz4q3jcu...\n",
       "4   stake17829eha0lrmu40t5hvp79h07xjfvr5uypxyfwrm5...\n",
       "..                                                ...\n",
       "4   stake1uyzzzxw74vflyghgkhzw4k0aafatsztstelx6xnc...\n",
       "3   stake1uyzzzyvc72rxsu7uu2lu3ds3xeu5lc3p9kfgwgxp...\n",
       "2   stake1uyzzzyx07tlna8feyumseen34294028n0nhpx46g...\n",
       "1   stake1uyzzzyyzmh8esjvmvdrqre8dddtzty3edslc9cjl...\n",
       "0   stake1uyzzzzr50yftpauzptzvmzg283sak03ayxnal3aq...\n",
       "\n",
       "[19000 rows x 1 columns]"
      ]
     },
     "execution_count": 7,
     "metadata": {},
     "output_type": "execute_result"
    }
   ],
   "source": [
    "address_list "
   ]
  },
  {
   "cell_type": "code",
   "execution_count": 9,
   "id": "69fed8f1",
   "metadata": {},
   "outputs": [],
   "source": [
    "address_list.to_csv(\"Stake_Accounts_list.csv\", index=False)"
   ]
  }
 ],
 "metadata": {
  "kernelspec": {
   "display_name": "Python 3 (ipykernel)",
   "language": "python",
   "name": "python3"
  },
  "language_info": {
   "codemirror_mode": {
    "name": "ipython",
    "version": 3
   },
   "file_extension": ".py",
   "mimetype": "text/x-python",
   "name": "python",
   "nbconvert_exporter": "python",
   "pygments_lexer": "ipython3",
   "version": "3.9.12"
  }
 },
 "nbformat": 4,
 "nbformat_minor": 5
}
